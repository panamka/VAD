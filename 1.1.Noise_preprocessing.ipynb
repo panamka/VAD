{
 "cells": [
  {
   "cell_type": "code",
   "execution_count": 1,
   "id": "c7fd53a5-5d4e-44cb-86eb-cd52894f9db7",
   "metadata": {},
   "outputs": [
    {
     "name": "stdout",
     "output_type": "stream",
     "text": [
      "Directory is set to /home/eva/eva_project_dir/VAD/LibriSpeech\n"
     ]
    }
   ],
   "source": [
    "import os\n",
    "path_peer = 'LibriSpeech/'\n",
    "is_peer = os.path.exists(path_peer)\n",
    "\n",
    "if is_peer:\n",
    "    os.chdir(path_peer)\n",
    "\n",
    "print('Directory is set to', os.getcwd())"
   ]
  },
  {
   "cell_type": "code",
   "execution_count": 2,
   "id": "1b9aa548-488c-451e-a9f8-a3dd99235108",
   "metadata": {},
   "outputs": [],
   "source": [
    "import pandas as pd\n",
    "import numpy as np\n",
    "\n",
    "import sys\n",
    "\n",
    "import librosa\n",
    "import librosa.display\n",
    "import seaborn as sns\n",
    "import matplotlib.pyplot as plt\n",
    "\n",
    "from function import * \n",
    "\n",
    "from IPython.display import Audio\n",
    "\n",
    "import warnings\n",
    "if not sys.warnoptions:\n",
    "    warnings.simplefilter(\"ignore\")\n",
    "warnings.filterwarnings(\"ignore\", category=DeprecationWarning) "
   ]
  },
  {
   "cell_type": "code",
   "execution_count": 3,
   "id": "734f0778-ad03-4fdd-8a99-eba34067f22d",
   "metadata": {},
   "outputs": [],
   "source": [
    "import glob\n",
    "import re\n",
    "from pydub import AudioSegment\n",
    "import soundfile as sf\n",
    "import h5py\n",
    "import webrtcvad\n"
   ]
  },
  {
   "cell_type": "code",
   "execution_count": 4,
   "id": "a87e7c3d-4c87-4582-918f-6eb233fa4a87",
   "metadata": {},
   "outputs": [],
   "source": [
    "SAMPLE_RATE = 16000\n",
    "SAMPLE_CHANNELS = 1\n",
    "SAMPLE_WIDTH = 2\n",
    "\n",
    "# Name of folder to save the data files in.\n",
    "DATA_FOLDER = 'data'\n",
    "\n",
    "# Min/max length for slicing the voice files.\n",
    "SLICE_MIN_MS = 1000\n",
    "SLICE_MAX_MS = 5000\n",
    "\n",
    "# Размер фрейма\n",
    "FRAME_SIZE_MS = 10\n",
    "\n",
    "# Convert slice ms to frame size.\n",
    "SLICE_MIN = int(SLICE_MIN_MS / FRAME_SIZE_MS)\n",
    "SLICE_MAX = int(SLICE_MAX_MS / FRAME_SIZE_MS)\n",
    "\n",
    "# Calculate frame size in data points.\n",
    "FRAME_SIZE = int(SAMPLE_RATE * (FRAME_SIZE_MS / 1000.0))"
   ]
  },
  {
   "cell_type": "code",
   "execution_count": 5,
   "id": "e6bb3832-8457-4947-854a-36683065a3d3",
   "metadata": {},
   "outputs": [],
   "source": [
    "data = h5py.File('data_noise.hdf5', 'a')"
   ]
  },
  {
   "cell_type": "raw",
   "id": "5fefa116-6840-4aa7-91bc-5329eefc40c6",
   "metadata": {},
   "source": [
    "files = glob.glob('./train-clean-360/' + '/**/*.flac', recursive=True)\n",
    "#files.extend(glob.glob('./train-clean-100/' + '/**/*.flac', recursive=True))\n",
    "#files.extend(glob.glob('./train-other-500/' + '/**/*.flac', recursive=True))\n"
   ]
  },
  {
   "cell_type": "code",
   "execution_count": null,
   "id": "1a8fa8ac-2a24-41a3-a435-7500e37650c9",
   "metadata": {},
   "outputs": [],
   "source": []
  },
  {
   "cell_type": "code",
   "execution_count": 6,
   "id": "a6e33a7b-1ba8-4676-b938-e6618462efe2",
   "metadata": {},
   "outputs": [],
   "source": [
    "files = glob.glob('../noize_raw/***/**/*.wav', recursive=True)"
   ]
  },
  {
   "cell_type": "code",
   "execution_count": 7,
   "id": "0d9c75f9-bc6d-434d-9b1b-6fc81ddc5bd3",
   "metadata": {},
   "outputs": [],
   "source": [
    "files = [f for f in files]\n",
    "\n",
    "#Выделяем пространство для датасета с путями файлов\n",
    "dt = h5py.special_dtype(vlen=str)\n",
    "data.create_dataset('files', (len(files),), dtype=dt)\n",
    "\n",
    "#Записываем пути файлов \n",
    "for i, f in enumerate(files):\n",
    "    data['files'][i] = f"
   ]
  },
  {
   "cell_type": "code",
   "execution_count": 8,
   "id": "ab7ea1a5-b00a-472d-8fc4-c49dc51cc35f",
   "metadata": {},
   "outputs": [],
   "source": [
    "def get_track_count():\n",
    "    return len(data['files'])"
   ]
  },
  {
   "cell_type": "code",
   "execution_count": 9,
   "id": "a77a21d1-de92-4e96-8085-69fde93f496e",
   "metadata": {
    "tags": []
   },
   "outputs": [
    {
     "name": "stdout",
     "output_type": "stream",
     "text": [
      "Processing 18 of 18\r"
     ]
    }
   ],
   "source": [
    "#Конвентируем аудиофайлы в нужный формат \n",
    "#Сохраняем каждый файл в отдельный датасет 'audio_raw'\n",
    "\n",
    "progress = 1\n",
    "# Создаем пространство для адуио в формате int16! Такой формат необходим для WebRTCVAD\n",
    "if 'audio_raw' not in data:\n",
    "    dt = h5py.special_dtype(vlen=np.dtype(np.int16))\n",
    "    data.create_dataset('audio_raw', (get_track_count(),), dtype=dt)\n",
    "\n",
    "for i, file in enumerate(data['files']): \n",
    "    print('Processing {0} of {1}'.format(progress, get_track_count()), end='\\r', flush=True)\n",
    "    progress += 1\n",
    "    # Проверяем сконвертировано ли уже аудио\n",
    "    if len(data['audio_raw'][i]) > 0:\n",
    "        continue\n",
    "\n",
    "    track = (AudioSegment.from_file((file).decode(\"utf-8\"))\n",
    "             .set_frame_rate(SAMPLE_RATE)\n",
    "             .set_sample_width(SAMPLE_WIDTH)\n",
    "             .set_channels(SAMPLE_CHANNELS))\n",
    "\n",
    "    data['audio_raw'][i] = np.array(track.get_array_of_samples(), dtype=np.int16)"
   ]
  },
  {
   "cell_type": "code",
   "execution_count": 10,
   "id": "13aacd55-76f1-49b7-b44c-8b1331208252",
   "metadata": {},
   "outputs": [
    {
     "data": {
      "text/plain": [
       "array([  0,  -8, -17, ...,   0,   0,   0], dtype=int16)"
      ]
     },
     "execution_count": 10,
     "metadata": {},
     "output_type": "execute_result"
    }
   ],
   "source": [
    "#проверяем, что все записалось верно и с форматом int16\n",
    "data['audio_raw'][0]"
   ]
  },
  {
   "cell_type": "code",
   "execution_count": 11,
   "id": "7deeff81-aa1a-4102-9050-7359f761ee9f",
   "metadata": {},
   "outputs": [
    {
     "name": "stdout",
     "output_type": "stream",
     "text": [
      "CPU times: user 15.8 s, sys: 10.3 s, total: 26.1 s\n",
      "Wall time: 45.2 s\n"
     ]
    }
   ],
   "source": [
    "%%time\n",
    "frame_count = 0\n",
    "progress = 1\n",
    "\n",
    "# Вычисляем кол-во итоговых фреймов, которые получаются из всех записей, смердженных вместе\n",
    "for raw in data['audio_raw']:\n",
    "    frame_count += int((len(raw) + (FRAME_SIZE - (len(raw) % FRAME_SIZE))) / FRAME_SIZE)\n",
    "    print('Counting frames ({0} of {1})'.format(progress, get_track_count()), end='\\r', flush=True)\n",
    "    progress += 1\n",
    "\n",
    "# Создаем датасет необходимого размера для хранения фреймов: кол-во фреймов, размер одного фрейма\n",
    "dt = np.dtype(np.int16)\n",
    "data.create_dataset('frames', (frame_count, FRAME_SIZE), dtype=dt)\n",
    "\n",
    "progress = 0\n",
    "\n",
    "# Buffer to speed up merging as HDF5 is not fast with lots of indexing.\n",
    "buffer = np.array([])\n",
    "buffer_limit = FRAME_SIZE * 4096\n",
    "\n",
    "# Merge frames.\n",
    "for raw in data['audio_raw']:\n",
    "\n",
    "    # Добавляем паддинг, чтобы каждая запись разбивалась на фреймы без остатка\n",
    "    raw = np.concatenate((raw, np.zeros(FRAME_SIZE - (len(raw) % FRAME_SIZE))))\n",
    "\n",
    "    # Add to buffer.\n",
    "    buffer = np.concatenate((buffer, raw))\n",
    "\n",
    "    # If buffer is not filled up and we are not done, keep filling the buffer up.\n",
    "    if len(buffer) < buffer_limit and progress + (len(buffer) / FRAME_SIZE) < frame_count:\n",
    "        continue\n",
    "\n",
    "    # Получаем фреймы\n",
    "    frames = np.array(np.split(buffer, len(buffer) / FRAME_SIZE))\n",
    "    buffer = np.array([])\n",
    "\n",
    "    # Добавляем фреймы \n",
    "    data['frames'][progress : progress + len(frames)] = frames\n",
    "\n",
    "    progress += len(frames)\n",
    "    print('Merging frames ({0} of {1})'.format(progress, frame_count), end='\\r', flush=True)"
   ]
  },
  {
   "cell_type": "code",
   "execution_count": 1,
   "id": "8396eeaf-cd69-4974-b4dc-10b5704b1e0c",
   "metadata": {},
   "outputs": [
    {
     "ename": "NameError",
     "evalue": "name 'webrtcvad' is not defined",
     "output_type": "error",
     "traceback": [
      "\u001b[0;31m---------------------------------------------------------------------------\u001b[0m",
      "\u001b[0;31mNameError\u001b[0m                                 Traceback (most recent call last)",
      "\u001b[0;32m<timed exec>\u001b[0m in \u001b[0;36m<module>\u001b[0;34m\u001b[0m\n",
      "\u001b[0;31mNameError\u001b[0m: name 'webrtcvad' is not defined"
     ]
    }
   ],
   "source": [
    "%%time\n",
    "vad = webrtcvad.Vad(0)\n",
    "\n",
    "frame_count = len(data['frames'])\n",
    "progress = 0\n",
    "batch_size = 65536\n",
    "\n",
    "# Create data set for labels.\n",
    "dt = np.dtype(np.uint8)\n",
    "data.create_dataset('labels_new', (frame_count,), dtype=dt)\n",
    "\n",
    "# Label all the frames.\n",
    "for pos in range(0, frame_count, batch_size):\n",
    "\n",
    "    frames = data['frames'][pos : pos + batch_size]\n",
    "    labels = [1 if vad.is_speech(f.tobytes(), sample_rate=SAMPLE_RATE) else 0 for f in frames]\n",
    "    data['labels_new'][pos : pos + batch_size] = np.array(labels)\n",
    "\n",
    "    progress += len(labels)\n",
    "    print('Labelling frames ({0} of {1})'.format(progress, frame_count), end='\\r', flush=True)\n",
    "\n"
   ]
  },
  {
   "cell_type": "code",
   "execution_count": 13,
   "id": "584472f0-c2b3-4576-aa8a-8b326f773c1b",
   "metadata": {},
   "outputs": [],
   "source": [
    "import h5py_cache"
   ]
  },
  {
   "cell_type": "code",
   "execution_count": 14,
   "id": "0d6f4aa7-2507-453f-aff1-5464c9fa5c93",
   "metadata": {},
   "outputs": [],
   "source": [
    "data = h5py_cache.File('data_noise.hdf5', 'a', chunk_cache_mem_size=1024**3)"
   ]
  },
  {
   "cell_type": "code",
   "execution_count": null,
   "id": "7bccfc78-817f-4e8c-ab63-892e3132909f",
   "metadata": {},
   "outputs": [],
   "source": []
  }
 ],
 "metadata": {
  "kernelspec": {
   "display_name": "Python 3",
   "language": "python",
   "name": "python3"
  },
  "language_info": {
   "codemirror_mode": {
    "name": "ipython",
    "version": 3
   },
   "file_extension": ".py",
   "mimetype": "text/x-python",
   "name": "python",
   "nbconvert_exporter": "python",
   "pygments_lexer": "ipython3",
   "version": "3.6.3"
  }
 },
 "nbformat": 4,
 "nbformat_minor": 5
}
